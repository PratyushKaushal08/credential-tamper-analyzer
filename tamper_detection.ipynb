{
 "cells": [
  {
   "cell_type": "code",
   "execution_count": 1,
   "id": "d35ff509-f7e0-40f0-8c53-0823a782ca64",
   "metadata": {},
   "outputs": [
    {
     "name": "stdout",
     "output_type": "stream",
     "text": [
      "Collecting PyPDF2\n",
      "  Downloading pypdf2-3.0.1-py3-none-any.whl.metadata (6.8 kB)\n",
      "Collecting opencv-python\n",
      "  Downloading opencv_python-4.11.0.86-cp37-abi3-win_amd64.whl.metadata (20 kB)\n",
      "Collecting pytesseract\n",
      "  Downloading pytesseract-0.3.13-py3-none-any.whl.metadata (11 kB)\n",
      "Requirement already satisfied: Pillow in c:\\users\\91900\\anaconda3\\lib\\site-packages (10.3.0)\n",
      "Requirement already satisfied: matplotlib in c:\\users\\91900\\anaconda3\\lib\\site-packages (3.8.4)\n",
      "Requirement already satisfied: numpy>=1.21.2 in c:\\users\\91900\\anaconda3\\lib\\site-packages (from opencv-python) (1.26.4)\n",
      "Requirement already satisfied: packaging>=21.3 in c:\\users\\91900\\anaconda3\\lib\\site-packages (from pytesseract) (23.2)\n",
      "Requirement already satisfied: contourpy>=1.0.1 in c:\\users\\91900\\anaconda3\\lib\\site-packages (from matplotlib) (1.2.0)\n",
      "Requirement already satisfied: cycler>=0.10 in c:\\users\\91900\\anaconda3\\lib\\site-packages (from matplotlib) (0.11.0)\n",
      "Requirement already satisfied: fonttools>=4.22.0 in c:\\users\\91900\\anaconda3\\lib\\site-packages (from matplotlib) (4.51.0)\n",
      "Requirement already satisfied: kiwisolver>=1.3.1 in c:\\users\\91900\\anaconda3\\lib\\site-packages (from matplotlib) (1.4.4)\n",
      "Requirement already satisfied: pyparsing>=2.3.1 in c:\\users\\91900\\anaconda3\\lib\\site-packages (from matplotlib) (3.0.9)\n",
      "Requirement already satisfied: python-dateutil>=2.7 in c:\\users\\91900\\anaconda3\\lib\\site-packages (from matplotlib) (2.9.0.post0)\n",
      "Requirement already satisfied: six>=1.5 in c:\\users\\91900\\anaconda3\\lib\\site-packages (from python-dateutil>=2.7->matplotlib) (1.16.0)\n",
      "Downloading pypdf2-3.0.1-py3-none-any.whl (232 kB)\n",
      "   ---------------------------------------- 0.0/232.6 kB ? eta -:--:--\n",
      "   ------ -------------------------------- 41.0/232.6 kB 991.0 kB/s eta 0:00:01\n",
      "   ------------------------ --------------- 143.4/232.6 kB 1.4 MB/s eta 0:00:01\n",
      "   ---------------------------------------- 232.6/232.6 kB 1.8 MB/s eta 0:00:00\n",
      "Downloading opencv_python-4.11.0.86-cp37-abi3-win_amd64.whl (39.5 MB)\n",
      "   ---------------------------------------- 0.0/39.5 MB ? eta -:--:--\n",
      "   ---------------------------------------- 0.2/39.5 MB 9.0 MB/s eta 0:00:05\n",
      "   ---------------------------------------- 0.5/39.5 MB 5.9 MB/s eta 0:00:07\n",
      "    --------------------------------------- 0.8/39.5 MB 6.3 MB/s eta 0:00:07\n",
      "   - -------------------------------------- 1.3/39.5 MB 7.5 MB/s eta 0:00:06\n",
      "   - -------------------------------------- 1.8/39.5 MB 8.0 MB/s eta 0:00:05\n",
      "   -- ------------------------------------- 2.4/39.5 MB 8.9 MB/s eta 0:00:05\n",
      "   -- ------------------------------------- 2.6/39.5 MB 8.3 MB/s eta 0:00:05\n",
      "   --- ------------------------------------ 3.0/39.5 MB 8.2 MB/s eta 0:00:05\n",
      "   --- ------------------------------------ 3.4/39.5 MB 8.3 MB/s eta 0:00:05\n",
      "   --- ------------------------------------ 3.7/39.5 MB 8.2 MB/s eta 0:00:05\n",
      "   ---- ----------------------------------- 4.2/39.5 MB 8.3 MB/s eta 0:00:05\n",
      "   ---- ----------------------------------- 4.7/39.5 MB 8.6 MB/s eta 0:00:05\n",
      "   ---- ----------------------------------- 4.8/39.5 MB 8.5 MB/s eta 0:00:05\n",
      "   ---- ----------------------------------- 4.8/39.5 MB 8.5 MB/s eta 0:00:05\n",
      "   ----- ---------------------------------- 5.7/39.5 MB 8.7 MB/s eta 0:00:04\n",
      "   ------ --------------------------------- 6.2/39.5 MB 8.4 MB/s eta 0:00:04\n",
      "   ------ --------------------------------- 6.7/39.5 MB 8.5 MB/s eta 0:00:04\n",
      "   ------- -------------------------------- 7.0/39.5 MB 8.6 MB/s eta 0:00:04\n",
      "   ------- -------------------------------- 7.5/39.5 MB 8.7 MB/s eta 0:00:04\n",
      "   -------- ------------------------------- 8.0/39.5 MB 8.9 MB/s eta 0:00:04\n",
      "   -------- ------------------------------- 8.5/39.5 MB 8.9 MB/s eta 0:00:04\n",
      "   -------- ------------------------------- 8.8/39.5 MB 8.9 MB/s eta 0:00:04\n",
      "   -------- ------------------------------- 8.8/39.5 MB 8.9 MB/s eta 0:00:04\n",
      "   --------- ------------------------------ 9.7/39.5 MB 8.9 MB/s eta 0:00:04\n",
      "   --------- ------------------------------ 9.8/39.5 MB 8.8 MB/s eta 0:00:04\n",
      "   ---------- ----------------------------- 10.4/39.5 MB 9.1 MB/s eta 0:00:04\n",
      "   ----------- ---------------------------- 10.9/39.5 MB 9.2 MB/s eta 0:00:04\n",
      "   ----------- ---------------------------- 11.3/39.5 MB 9.2 MB/s eta 0:00:04\n",
      "   ----------- ---------------------------- 11.8/39.5 MB 9.2 MB/s eta 0:00:04\n",
      "   ------------ --------------------------- 12.2/39.5 MB 9.0 MB/s eta 0:00:04\n",
      "   ------------ --------------------------- 12.2/39.5 MB 9.0 MB/s eta 0:00:04\n",
      "   ------------ --------------------------- 12.2/39.5 MB 9.0 MB/s eta 0:00:04\n",
      "   ------------- -------------------------- 13.4/39.5 MB 9.1 MB/s eta 0:00:03\n",
      "   -------------- ------------------------- 13.9/39.5 MB 9.4 MB/s eta 0:00:03\n",
      "   -------------- ------------------------- 14.3/39.5 MB 9.4 MB/s eta 0:00:03\n",
      "   -------------- ------------------------- 14.8/39.5 MB 9.2 MB/s eta 0:00:03\n",
      "   --------------- ------------------------ 15.2/39.5 MB 9.9 MB/s eta 0:00:03\n",
      "   --------------- ------------------------ 15.8/39.5 MB 9.5 MB/s eta 0:00:03\n",
      "   ---------------- ----------------------- 16.2/39.5 MB 9.5 MB/s eta 0:00:03\n",
      "   ---------------- ----------------------- 16.6/39.5 MB 9.5 MB/s eta 0:00:03\n",
      "   ----------------- ---------------------- 17.1/39.5 MB 9.5 MB/s eta 0:00:03\n",
      "   ----------------- ---------------------- 17.5/39.5 MB 9.5 MB/s eta 0:00:03\n",
      "   ------------------ --------------------- 18.0/39.5 MB 9.6 MB/s eta 0:00:03\n",
      "   ------------------ --------------------- 18.4/39.5 MB 9.5 MB/s eta 0:00:03\n",
      "   ------------------- -------------------- 18.8/39.5 MB 9.6 MB/s eta 0:00:03\n",
      "   ------------------- -------------------- 19.2/39.5 MB 10.1 MB/s eta 0:00:03\n",
      "   ------------------- -------------------- 19.6/39.5 MB 9.6 MB/s eta 0:00:03\n",
      "   -------------------- ------------------- 19.8/39.5 MB 9.2 MB/s eta 0:00:03\n",
      "   -------------------- ------------------- 19.8/39.5 MB 9.2 MB/s eta 0:00:03\n",
      "   --------------------- ------------------ 20.8/39.5 MB 9.5 MB/s eta 0:00:02\n",
      "   --------------------- ------------------ 21.1/39.5 MB 9.4 MB/s eta 0:00:02\n",
      "   --------------------- ------------------ 21.5/39.5 MB 9.4 MB/s eta 0:00:02\n",
      "   ---------------------- ----------------- 22.1/39.5 MB 9.2 MB/s eta 0:00:02\n",
      "   ---------------------- ----------------- 22.4/39.5 MB 9.4 MB/s eta 0:00:02\n",
      "   ----------------------- ---------------- 22.9/39.5 MB 9.8 MB/s eta 0:00:02\n",
      "   ----------------------- ---------------- 23.4/39.5 MB 9.5 MB/s eta 0:00:02\n",
      "   ----------------------- ---------------- 23.4/39.5 MB 9.5 MB/s eta 0:00:02\n",
      "   ----------------------- ---------------- 23.4/39.5 MB 9.5 MB/s eta 0:00:02\n",
      "   ------------------------ --------------- 24.4/39.5 MB 9.5 MB/s eta 0:00:02\n",
      "   ------------------------- -------------- 24.7/39.5 MB 9.1 MB/s eta 0:00:02\n",
      "   ------------------------- -------------- 25.0/39.5 MB 9.0 MB/s eta 0:00:02\n",
      "   ------------------------- -------------- 25.4/39.5 MB 9.0 MB/s eta 0:00:02\n",
      "   -------------------------- ------------- 25.9/39.5 MB 8.8 MB/s eta 0:00:02\n",
      "   -------------------------- ------------- 26.3/39.5 MB 8.7 MB/s eta 0:00:02\n",
      "   -------------------------- ------------- 26.5/39.5 MB 8.8 MB/s eta 0:00:02\n",
      "   -------------------------- ------------- 26.5/39.5 MB 8.8 MB/s eta 0:00:02\n",
      "   --------------------------- ------------ 27.4/39.5 MB 8.7 MB/s eta 0:00:02\n",
      "   ---------------------------- ----------- 27.9/39.5 MB 8.6 MB/s eta 0:00:02\n",
      "   ---------------------------- ----------- 28.2/39.5 MB 8.5 MB/s eta 0:00:02\n",
      "   ----------------------------- ---------- 28.7/39.5 MB 8.6 MB/s eta 0:00:02\n",
      "   ----------------------------- ---------- 29.1/39.5 MB 8.6 MB/s eta 0:00:02\n",
      "   ----------------------------- ---------- 29.5/39.5 MB 8.7 MB/s eta 0:00:02\n",
      "   ------------------------------ --------- 29.9/39.5 MB 8.7 MB/s eta 0:00:02\n",
      "   ------------------------------ --------- 30.1/39.5 MB 9.4 MB/s eta 0:00:02\n",
      "   ------------------------------ --------- 30.1/39.5 MB 9.4 MB/s eta 0:00:02\n",
      "   ------------------------------- -------- 31.0/39.5 MB 8.6 MB/s eta 0:00:01\n",
      "   ------------------------------- -------- 31.0/39.5 MB 8.6 MB/s eta 0:00:01\n",
      "   -------------------------------- ------- 31.8/39.5 MB 8.6 MB/s eta 0:00:01\n",
      "   -------------------------------- ------- 32.1/39.5 MB 8.5 MB/s eta 0:00:01\n",
      "   --------------------------------- ------ 32.6/39.5 MB 8.5 MB/s eta 0:00:01\n",
      "   --------------------------------- ------ 33.0/39.5 MB 8.5 MB/s eta 0:00:01\n",
      "   --------------------------------- ------ 33.4/39.5 MB 8.4 MB/s eta 0:00:01\n",
      "   ---------------------------------- ----- 33.9/39.5 MB 8.8 MB/s eta 0:00:01\n",
      "   ---------------------------------- ----- 34.1/39.5 MB 8.6 MB/s eta 0:00:01\n",
      "   ---------------------------------- ----- 34.5/39.5 MB 8.4 MB/s eta 0:00:01\n",
      "   ----------------------------------- ---- 35.0/39.5 MB 8.6 MB/s eta 0:00:01\n",
      "   ----------------------------------- ---- 35.5/39.5 MB 8.7 MB/s eta 0:00:01\n",
      "   ------------------------------------ --- 36.0/39.5 MB 8.8 MB/s eta 0:00:01\n",
      "   ------------------------------------ --- 36.4/39.5 MB 9.0 MB/s eta 0:00:01\n",
      "   ------------------------------------- -- 36.9/39.5 MB 9.5 MB/s eta 0:00:01\n",
      "   ------------------------------------- -- 37.4/39.5 MB 9.0 MB/s eta 0:00:01\n",
      "   -------------------------------------- - 37.7/39.5 MB 9.2 MB/s eta 0:00:01\n",
      "   -------------------------------------- - 38.2/39.5 MB 9.1 MB/s eta 0:00:01\n",
      "   ---------------------------------------  38.7/39.5 MB 9.1 MB/s eta 0:00:01\n",
      "   ---------------------------------------  39.1/39.5 MB 9.1 MB/s eta 0:00:01\n",
      "   ---------------------------------------  39.5/39.5 MB 9.1 MB/s eta 0:00:01\n",
      "   ---------------------------------------- 39.5/39.5 MB 8.7 MB/s eta 0:00:00\n",
      "Downloading pytesseract-0.3.13-py3-none-any.whl (14 kB)\n",
      "Installing collected packages: pytesseract, PyPDF2, opencv-python\n",
      "Successfully installed PyPDF2-3.0.1 opencv-python-4.11.0.86 pytesseract-0.3.13\n"
     ]
    }
   ],
   "source": [
    "!pip install PyPDF2 opencv-python pytesseract Pillow matplotlib"
   ]
  },
  {
   "cell_type": "code",
   "execution_count": 3,
   "id": "a6954365-2f09-4910-b575-9be36c74e942",
   "metadata": {},
   "outputs": [],
   "source": [
    "import pytesseract\n",
    "pytesseract.pytesseract.tesseract_cmd = r'C:\\Program Files\\Tesseract-OCR\\tesseract.exe'"
   ]
  },
  {
   "cell_type": "code",
   "execution_count": 1,
   "id": "25e858b1-6fbd-48fb-b9fc-98d51af24e73",
   "metadata": {},
   "outputs": [],
   "source": [
    "import os\n",
    "import PyPDF2\n",
    "import pytesseract\n",
    "from PIL import Image\n",
    "import difflib\n",
    "import cv2\n",
    "import matplotlib.pyplot as plt"
   ]
  },
  {
   "cell_type": "code",
   "execution_count": 31,
   "id": "e0035380-14c7-4a00-be2d-74955fce4e8e",
   "metadata": {},
   "outputs": [
    {
     "name": "stdout",
     "output_type": "stream",
     "text": [
      "Metadata written to: sample_docs/sample_degree_updated.pdf\n",
      "Metadata written to: sample_docs/tampered_degree_updated.pdf\n"
     ]
    }
   ],
   "source": [
    "from PyPDF2 import PdfReader, PdfWriter\n",
    "\n",
    "def add_metadata(input_path, output_path, metadata):\n",
    "    reader = PdfReader(input_path)\n",
    "    writer = PdfWriter()\n",
    "    \n",
    "    for page in reader.pages:\n",
    "        writer.add_page(page)\n",
    "\n",
    "    # Add CreationDate if missing\n",
    "    if '/CreationDate' not in metadata:\n",
    "        metadata['/CreationDate'] = 'D:20240501100000'  # Example date\n",
    "\n",
    "    writer.add_metadata(metadata)\n",
    "    with open(output_path, \"wb\") as f:\n",
    "        writer.write(f)\n",
    "    print(f\"Metadata written to: {output_path}\")\n",
    "\n",
    "\n",
    "# Example: update valid certificate\n",
    "#sample doc\n",
    "add_metadata(\n",
    "    \"sample_docs/sample_degree.pdf\",\n",
    "    \"sample_docs/sample_degree_updated.pdf\",\n",
    "    {\n",
    "        '/Author': 'VIT University',\n",
    "        '/Title': 'Degree Certificate',\n",
    "        '/CreationDate': 'D:20240430120000',\n",
    "        '/ModDate': 'D:20240501120000'\n",
    "    }\n",
    ")\n",
    "\n",
    "#tampered doc\n",
    "add_metadata(\n",
    "    \"sample_docs/tampered_degree.pdf\",\n",
    "    \"sample_docs/tampered_degree_updated.pdf\",\n",
    "    {\n",
    "        '/Author': 'Pratyush Kumar',\n",
    "        '/Title': 'Modified Degree',\n",
    "        '/CreationDate': 'D:20240501120000',\n",
    "        '/ModDate': 'D:20250512130000'\n",
    "    }\n",
    ")\n",
    "\n"
   ]
  },
  {
   "cell_type": "code",
   "execution_count": 37,
   "id": "1ffaaed7-42a4-45ea-830f-4960a78d8059",
   "metadata": {},
   "outputs": [],
   "source": [
    "from datetime import datetime\n",
    "\n",
    "def parse_pdf_date(pdf_date):\n",
    "    try:\n",
    "        return datetime.strptime(pdf_date[2:], \"%Y%m%d%H%M%S\")\n",
    "    except:\n",
    "        return None\n",
    "\n",
    "def enhanced_metadata_check(file_path):\n",
    "    with open(file_path, 'rb') as f:\n",
    "        reader = PyPDF2.PdfReader(f)\n",
    "        metadata = reader.metadata\n",
    "        print(f\"\\n📄 File: {file_path}\")\n",
    "        print(\"Metadata:\", metadata)\n",
    "\n",
    "        suspicious = []\n",
    "\n",
    "        # Check for missing fields\n",
    "        for field in ['/CreationDate', '/ModDate', '/Author']:\n",
    "            if not metadata.get(field):\n",
    "                suspicious.append(f\"{field} missing\")\n",
    "\n",
    "        # Check if PDF was generated using scripting tools\n",
    "        producer = metadata.get('/Producer', '').lower()\n",
    "        if 'fpdf' in producer or 'pypdf2' in producer:\n",
    "            suspicious.append(\"PDF generated by script\")\n",
    "\n",
    "        # Check if ModDate is far ahead of CreationDate\n",
    "        created = parse_pdf_date(metadata.get('/CreationDate', ''))\n",
    "        modified = parse_pdf_date(metadata.get('/ModDate', ''))\n",
    "\n",
    "        if created and modified and (modified - created).days > 30:\n",
    "            suspicious.append(\"ModDate >30 days after CreationDate\")\n",
    "\n",
    "        # Optional: flag suspicious authors\n",
    "        author = metadata.get('/Author', '')\n",
    "        if author.lower() not in ['vit university', 'registrar vit', 'examination cell vit']:\n",
    "            suspicious.append(f\"Unrecognized author: {author}\")\n",
    "\n",
    "        # Display results\n",
    "        if suspicious:\n",
    "            print(\"Suspicious Findings:\")\n",
    "            for s in suspicious:\n",
    "                print(\" -\", s)\n",
    "        else:\n",
    "            print(\"Metadata looks fine.\")"
   ]
  },
  {
   "cell_type": "code",
   "execution_count": 39,
   "id": "be836277-cc68-4db3-a570-3ed5698cdb7c",
   "metadata": {},
   "outputs": [
    {
     "name": "stdout",
     "output_type": "stream",
     "text": [
      "\n",
      "📄 File: sample_docs/sample_degree_updated.pdf\n",
      "Metadata: {'/Producer': 'PyPDF2', '/Author': 'VIT University', '/Title': 'Degree Certificate', '/CreationDate': 'D:20240430120000', '/ModDate': 'D:20240501120000'}\n",
      "⚠️ Suspicious Findings:\n",
      " - PDF generated by script\n",
      "\n",
      "📄 File: sample_docs/tampered_degree_updated.pdf\n",
      "Metadata: {'/Producer': 'PyPDF2', '/Author': 'Pratyush Kumar', '/Title': 'Modified Degree', '/CreationDate': 'D:20240501120000', '/ModDate': 'D:20250512130000'}\n",
      "⚠️ Suspicious Findings:\n",
      " - PDF generated by script\n",
      " - ModDate >30 days after CreationDate\n",
      " - Unrecognized author: Pratyush Kumar\n"
     ]
    }
   ],
   "source": [
    "enhanced_metadata_check(\"sample_docs/sample_degree_updated.pdf\")\n",
    "enhanced_metadata_check(\"sample_docs/tampered_degree_updated.pdf\")"
   ]
  },
  {
   "cell_type": "code",
   "execution_count": 45,
   "id": "dca1a0c7-4448-4eb5-9a47-62c4787d0e82",
   "metadata": {},
   "outputs": [],
   "source": [
    "def compare_images(template_path, suspect_path):\n",
    "    img1 = cv2.imread(template_path, 0)\n",
    "    img2 = cv2.imread(suspect_path, 0)\n",
    "\n",
    "    if img1 is None:\n",
    "        print(f\"Error: Could not load template image from '{template_path}'\")\n",
    "        return\n",
    "    if img2 is None:\n",
    "        print(f\"Error: Could not load suspect image from '{suspect_path}'\")\n",
    "        return\n",
    "    if img1.shape != img2.shape:\n",
    "        print(\"Error: Images are not the same size.\")\n",
    "        return\n",
    "\n",
    "    diff = cv2.absdiff(img1, img2)\n",
    "    _, thresh = cv2.threshold(diff, 30, 255, cv2.THRESH_BINARY)\n",
    "    diff_score = cv2.countNonZero(thresh)\n",
    "    print(\"Difference score:\", diff_score)\n",
    "\n",
    "    plt.imshow(thresh, cmap='gray')\n",
    "    plt.title(\"Differences Highlighted\")\n",
    "    plt.axis('off')\n",
    "    plt.show()"
   ]
  },
  {
   "cell_type": "code",
   "execution_count": 49,
   "id": "5d35e712-bc8c-4f84-9552-1a34b549687e",
   "metadata": {},
   "outputs": [
    {
     "name": "stdout",
     "output_type": "stream",
     "text": [
      "Difference score: 0\n"
     ]
    },
    {
     "data": {
      "image/png": "[encoded data removed]",
      "text/plain": [
       "<Figure size 640x480 with 1 Axes>"
      ]
     },
     "metadata": {},
     "output_type": "display_data"
    }
   ],
   "source": [
    "compare_images(\"sample_docs/degree_image_2.jpg\", \"sample_docs/degree_image_2.jpg\")"
   ]
  },
  {
   "cell_type": "code",
   "execution_count": 51,
   "id": "57837c4b-fab1-4031-9982-70f53f0ffcc5",
   "metadata": {},
   "outputs": [
    {
     "name": "stdout",
     "output_type": "stream",
     "text": [
      "Difference score: 111\n"
     ]
    },
    {
     "data": {
      "image/png": "[encoded data removed]",
      "text/plain": [
       "<Figure size 640x480 with 1 Axes>"
      ]
     },
     "metadata": {},
     "output_type": "display_data"
    }
   ],
   "source": [
    "compare_images(\"sample_docs/degree_image_1.jpg\", \"sample_docs/degree_image_2.jpg\")"
   ]
  },
  {
   "cell_type": "code",
   "execution_count": 53,
   "id": "c79cb74f-fecb-4615-846e-9179bf81d55f",
   "metadata": {},
   "outputs": [],
   "source": [
    "def ocr_text_compare(img1_path, img2_path):\n",
    "    # Extract text using Tesseract OCR\n",
    "    text1 = pytesseract.image_to_string(Image.open(img1_path))\n",
    "    text2 = pytesseract.image_to_string(Image.open(img2_path))\n",
    "\n",
    "    # Display extracted text previews\n",
    "    print(\"Text from image 1 (first 300 chars):\\n\", text1[:300])\n",
    "    print(\"\\nText from image 2 (first 300 chars):\\n\", text2[:300])\n",
    "\n",
    "    # Show line-by-line differences\n",
    "    print(\"\\n🧾 Differences between image 1 and image 2:\")\n",
    "    diff_lines = list(difflib.unified_diff(\n",
    "        text1.splitlines(), \n",
    "        text2.splitlines(), \n",
    "        fromfile='Image 1', \n",
    "        tofile='Image 2', \n",
    "        lineterm=''\n",
    "    ))\n",
    "\n",
    "    if not diff_lines:\n",
    "        print(\"No textual differences found.\")\n",
    "    else:\n",
    "        for line in diff_lines:\n",
    "            print(line)"
   ]
  },
  {
   "cell_type": "code",
   "execution_count": 57,
   "id": "40de1e9e-c22b-4aa5-a84b-8bc0fb70e04e",
   "metadata": {},
   "outputs": [],
   "source": [
    "import pytesseract\n",
    "pytesseract.pytesseract.tesseract_cmd = r'C:\\Program Files\\Tesseract-OCR\\tesseract.exe'"
   ]
  },
  {
   "cell_type": "code",
   "execution_count": 59,
   "id": "ed1e3616-f308-43f9-a2ee-d6903a9c103a",
   "metadata": {},
   "outputs": [
    {
     "name": "stdout",
     "output_type": "stream",
     "text": [
      "Text from image 1 (first 300 chars):\n",
      " certificate of Excellence\n",
      "Pratyush Kaushal\n",
      "Issued: 2024\n",
      "\n",
      "\n",
      "Text from image 2 (first 300 chars):\n",
      " certificate of Excellence\n",
      "Pratyush Kumar\n",
      "Kssued: 2025\n",
      "\n",
      "\n",
      "🧾 Differences between image 1 and image 2:\n",
      "--- Image 1\n",
      "+++ Image 2\n",
      "@@ -1,3 +1,3 @@\n",
      " certificate of Excellence\n",
      "-Pratyush Kaushal\n",
      "-Issued: 2024\n",
      "+Pratyush Kumar\n",
      "+Kssued: 2025\n"
     ]
    }
   ],
   "source": [
    "ocr_text_compare(\"sample_docs/degree_image_1.jpg\", \"sample_docs/degree_image_2.jpg\")"
   ]
  },
  {
   "cell_type": "code",
   "execution_count": 79,
   "id": "b85b7c94-f1d6-4f87-945a-9629aa3b837d",
   "metadata": {},
   "outputs": [],
   "source": [
    "# Function to collect /ModDate metadata from PDF files in a folder\n",
    "def detect_anomalies_smart(meta_list):\n",
    "    print(\"Modification Dates Found:\", meta_list)\n",
    "    unique_dates = set(meta_list)\n",
    "\n",
    "    # 1. Check for duplicate dates\n",
    "    if len(unique_dates) < len(meta_list):\n",
    "        print(\"Warning: Duplicate modification dates detected.\")\n",
    "\n",
    "    # 2. Check for suspiciously far future dates\n",
    "    now = datetime.now()\n",
    "    for date_str in meta_list:\n",
    "        try:\n",
    "            mod_date = datetime.strptime(date_str[2:], \"%Y%m%d%H%M%S\")\n",
    "            days_diff = (mod_date - now).days\n",
    "\n",
    "            if days_diff > 30:\n",
    "                print(f\"ModDate {date_str} is {days_diff} days in the future!\")\n",
    "            elif days_diff < -365:\n",
    "                print(f\"ModDate {date_str} is very old ({abs(days_diff)} days ago).\")\n",
    "        except Exception as e:\n",
    "            print(f\"Error parsing {date_str}: {e}\")\n",
    "    print(\"Smart anomaly check complete.\")\n",
    "\n",
    "# Function to detect repeated or inconsistent modification dates\n",
    "from datetime import datetime\n",
    "\n",
    "def detect_anomalies_with_date_check(meta_list):\n",
    "    print(\"Modification Dates Found:\", meta_list)\n",
    "    unique_dates = set(meta_list)\n",
    "    if len(unique_dates) < len(meta_list):\n",
    "        print(\"Warning: Repeated or inconsistent modification dates detected.\")\n",
    "\n",
    "    # Check for future dates\n",
    "    now = datetime.now()\n",
    "    for date_str in meta_list:\n",
    "        try:\n",
    "            date_obj = datetime.strptime(date_str[2:], \"%Y%m%d%H%M%S\")\n",
    "            if date_obj > now:\n",
    "                print(f\"ModDate {date_str} is in the future!\")\n",
    "        except:\n",
    "            print(f\"Could not parse {date_str}\")\n",
    "    print(\"Anomaly check complete.\")"
   ]
  },
  {
   "cell_type": "code",
   "execution_count": 81,
   "id": "fcc1a885-bbe3-4010-80af-0484857c57d8",
   "metadata": {},
   "outputs": [
    {
     "name": "stdout",
     "output_type": "stream",
     "text": [
      "Modification Dates Found: ['D:20240501120000', 'D:20250512130000']\n",
      "ModDate D:20240501120000 is very old (381 days ago).\n",
      "Smart anomaly check complete.\n"
     ]
    }
   ],
   "source": [
    "dates = collect_metadata(\"sample_docs\")\n",
    "detect_anomalies_smart(dates)"
   ]
  },
  {
   "cell_type": "code",
   "execution_count": null,
   "id": "e8264764-0193-49e2-ac66-bf10e3b36180",
   "metadata": {},
   "outputs": [],
   "source": []
  }
 ],
 "metadata": {
  "kernelspec": {
   "display_name": "Python 3 (ipykernel)",
   "language": "python",
   "name": "python3"
  },
  "language_info": {
   "codemirror_mode": {
    "name": "ipython",
    "version": 3
   },
   "file_extension": ".py",
   "mimetype": "text/x-python",
   "name": "python",
   "nbconvert_exporter": "python",
   "pygments_lexer": "ipython3",
   "version": "3.12.4"
  }
 },
 "nbformat": 4,
 "nbformat_minor": 5
}
